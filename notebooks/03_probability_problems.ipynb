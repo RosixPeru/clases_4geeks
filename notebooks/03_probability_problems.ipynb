{
 "cells": [
  {
   "cell_type": "markdown",
   "id": "a41f3622",
   "metadata": {},
   "source": [
    "# Ejercicios de probabilidad"
   ]
  },
  {
   "cell_type": "markdown",
   "id": "a6bdbd89",
   "metadata": {},
   "source": [
    "## Ejercicio 1 \n",
    "\n",
    "Dos dados se lanzan una vez y se observa el total obtenido. Usa una simulación para encontrar la probabilidad estimada de que la puntuación sea mayor a 7 o un número par. Una simulación es una repetición del mismo experimento multiples veces para observar su comportamiento:\n",
    "\n",
    "- Ejecuta el experimento 1000 veces (lanza 2 dados 1000 veces, y suma el número de ambos dados).\n",
    "- Lleva ua cuenta de los números y las veces que la suma fue mayor a 7 o un número par.\n",
    "- Divide el número del paso 2 entre el número de iteraciones(1000)."
   ]
  },
  {
   "cell_type": "code",
   "execution_count": 97,
   "id": "1b676a0f",
   "metadata": {},
   "outputs": [],
   "source": [
    "import numpy  as np\n",
    "import pandas as pd\n",
    "import random #"
   ]
  },
  {
   "cell_type": "code",
   "execution_count": 98,
   "id": "9bd60878",
   "metadata": {},
   "outputs": [
    {
     "name": "stdout",
     "output_type": "stream",
     "text": [
      "La probabilidad de obtener la suma de los dados mayor a 7 o número par es: 65.2 %\n"
     ]
    }
   ],
   "source": [
    "space = [1,2,3,4,5,6]\n",
    "trials = list(range(1,1001))\n",
    "frec = []\n",
    "cont = 0\n",
    "for trial in trials:\n",
    "    #total = 0\n",
    "    #for i in range(trial):\n",
    "    die1 = random.choice(space)\n",
    "    die2 = random.choice(space)\n",
    "    sum_die = die1 + die2\n",
    "    if sum_die > 7 or sum_die%2 == 0:\n",
    "        cont=cont+1\n",
    "        frec.append(die1 + die2)\n",
    "print(f\"La probabilidad de obtener la suma de los dados mayor a 7 o número par es: { np.round(cont/ 1000*100,2)} %\")"
   ]
  },
  {
   "cell_type": "markdown",
   "id": "55732bca",
   "metadata": {},
   "source": [
    "## Ejercicio 2\n",
    "\n",
    "Una caja contiene 10 bolas blancas, 20 bolas rojas y 30 bolas verdes. Si tomamos 5 bolas de la caja reemplazándolas (tomando una bola, anotando el color y luego regresandola a la caja). Queremos saber la probabilidad de:\n",
    "\n",
    "1. Tomar 3 blancas y 2 rojas.\n",
    "2. Toas todas del mismo color.\n",
    "\n",
    "Ejecuta el experimento 1000 veces y calcula las probabilidades que mencionadas."
   ]
  },
  {
   "cell_type": "code",
   "execution_count": 56,
   "id": "23244d20",
   "metadata": {},
   "outputs": [
    {
     "name": "stdout",
     "output_type": "stream",
     "text": [
      "{0: 'White', 1: 'White', 2: 'White', 3: 'White', 4: 'White', 5: 'White', 6: 'White', 7: 'White', 8: 'White', 9: 'White', 10: 'Red', 11: 'Red', 12: 'Red', 13: 'Red', 14: 'Red', 15: 'Red', 16: 'Red', 17: 'Red', 18: 'Red', 19: 'Red', 20: 'Red', 21: 'Red', 22: 'Red', 23: 'Red', 24: 'Red', 25: 'Red', 26: 'Red', 27: 'Red', 28: 'Red', 29: 'Red', 30: 'Green', 31: 'Green', 32: 'Green', 33: 'Green', 34: 'Green', 35: 'Green', 36: 'Green', 37: 'Green', 38: 'Green', 39: 'Green', 40: 'Green', 41: 'Green', 42: 'Green', 43: 'Green', 44: 'Green', 45: 'Green', 46: 'Green', 47: 'Green', 48: 'Green', 49: 'Green', 50: 'Green', 51: 'Green', 52: 'Green', 53: 'Green', 54: 'Green', 55: 'Green', 56: 'Green', 57: 'Green', 58: 'Green', 59: 'Green'}\n"
     ]
    }
   ],
   "source": [
    "ball_box = {}\n",
    "\n",
    "# Crea la cajas con las bolas\n",
    "for i in range(60):\n",
    "    if i < 10:\n",
    "        ball_box[i] = \"White\"\n",
    "    elif (i > 9) and (i < 30):\n",
    "        ball_box[i] = \"Red\"\n",
    "    else:\n",
    "        ball_box[i] = \"Green\"\n",
    "\n",
    "print(ball_box)\n",
    "            \n",
    "# TODO"
   ]
  },
  {
   "cell_type": "code",
   "execution_count": 87,
   "id": "53b10c02",
   "metadata": {},
   "outputs": [
    {
     "name": "stdout",
     "output_type": "stream",
     "text": [
      "La probabilidad de obtener 3 blancas y 2 rojas en 1000 veces es: 0.6 %\n",
      "La probabilidad de obtener todas del mismo color en 1000 veces es: 3.3 %\n"
     ]
    }
   ],
   "source": [
    "trials = list(range(1,1001))\n",
    "cont_3whites_2red = 0\n",
    "contOnlyColor = 0\n",
    "for trial in trials:\n",
    "    contRed = 0 \n",
    "    contWhite = 0\n",
    "    contGreen = 0\n",
    "    for x in range(5):\n",
    "      ball = random.choice(ball_box)\n",
    "      if (ball == \"Red\"): contRed=contRed+1\n",
    "      if (ball == \"White\"): contWhite=contWhite+1\n",
    "      if (ball == \"Green\"): contGreen=contGreen+1\n",
    "    if (contWhite == 3) and (contRed == 2):\n",
    "       cont_3whites_2red = cont_3whites_2red + 1\n",
    "    if (contRed == 5) or (contWhite == 5) or (contGreen ==5):\n",
    "       contOnlyColor = contOnlyColor + 1\n",
    "print(f\"La probabilidad de obtener 3 blancas y 2 rojas en 1000 veces es: { np.round(cont_3whites_2red/ 1000 *100 , 2)} %\")\n",
    "print(f\"La probabilidad de obtener todas del mismo color en 1000 veces es: { np.round(contOnlyColor/ 1000*100,2)} %\")\n"
   ]
  }
 ],
 "metadata": {
  "kernelspec": {
   "display_name": "Python 3",
   "language": "python",
   "name": "python3"
  },
  "language_info": {
   "codemirror_mode": {
    "name": "ipython",
    "version": 3
   },
   "file_extension": ".py",
   "mimetype": "text/x-python",
   "name": "python",
   "nbconvert_exporter": "python",
   "pygments_lexer": "ipython3",
   "version": "3.12.1"
  }
 },
 "nbformat": 4,
 "nbformat_minor": 5
}
