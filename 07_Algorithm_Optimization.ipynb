{
  "nbformat": 4,
  "nbformat_minor": 0,
  "metadata": {
    "colab": {
      "provenance": [],
      "authorship_tag": "ABX9TyOILvP+c2OJ4rZXwBnHbmeH",
      "include_colab_link": true
    },
    "kernelspec": {
      "name": "python3",
      "display_name": "Python 3"
    },
    "language_info": {
      "name": "python"
    }
  },
  "cells": [
    {
      "cell_type": "markdown",
      "metadata": {
        "id": "view-in-github",
        "colab_type": "text"
      },
      "source": [
        "<a href=\"https://colab.research.google.com/github/RosixPeru/clases_4geeks/blob/main/07_Algorithm_Optimization.ipynb\" target=\"_parent\"><img src=\"https://colab.research.google.com/assets/colab-badge.svg\" alt=\"Open In Colab\"/></a>"
      ]
    },
    {
      "cell_type": "markdown",
      "source": [
        "Author: Rosalvina Ramirez Guardia\n",
        "Date: 20/08/2025"
      ],
      "metadata": {
        "id": "FzLXycPcFw95"
      }
    },
    {
      "cell_type": "markdown",
      "source": [
        "Algoritmo de suma y multiplicación de matrices"
      ],
      "metadata": {
        "id": "UhbAvrcXFyUd"
      }
    },
    {
      "cell_type": "code",
      "execution_count": 14,
      "metadata": {
        "colab": {
          "base_uri": "https://localhost:8080/"
        },
        "id": "OFftrD8qFtwU",
        "outputId": "1ba3631c-aade-4fbd-acac-36f49ec0126a"
      },
      "outputs": [
        {
          "output_type": "execute_result",
          "data": {
            "text/plain": [
              "1"
            ]
          },
          "metadata": {},
          "execution_count": 14
        }
      ],
      "source": [
        "matriz_a = [[-1,0,2],[0,1,2],[0,0,-1]] #Lista de lista en python pero lo recomendable es usar numpy\n",
        "matriz_a[0][0]\n",
        "matriz_a[0][1]\n",
        "matriz_a[1][1]\n",
        "\n"
      ]
    },
    {
      "cell_type": "code",
      "source": [
        "#Pintar una matriz\n",
        "#Esto tiene nxn elementos, ejecución cuadrática\n",
        "def imprimir_matriz(matriz:list)->None:\n",
        "  for i in range(len(matriz)):\n",
        "    for j in range(len(matriz[0])):\n",
        "      print(matriz[i][j], end=' ')\n",
        "    print('\\n')\n",
        "\n",
        "imprimir_matriz(matriz_a)"
      ],
      "metadata": {
        "colab": {
          "base_uri": "https://localhost:8080/"
        },
        "id": "e8XWifKgHXSl",
        "outputId": "7562bf39-667f-4702-a82c-61042d95f5e0"
      },
      "execution_count": 19,
      "outputs": [
        {
          "output_type": "stream",
          "name": "stdout",
          "text": [
            "-1 0 2 \n",
            "\n",
            "0 1 2 \n",
            "\n",
            "0 0 -1 \n",
            "\n"
          ]
        }
      ]
    },
    {
      "cell_type": "markdown",
      "source": [
        "Dada una lista simple mi_lista = [3,4,7,-1], genere un algoritmo para imprimir cada elemento de la lista separado por =="
      ],
      "metadata": {
        "id": "_eByK0QpKIAk"
      }
    },
    {
      "cell_type": "code",
      "source": [
        "#Ejecución lineal\n",
        "mi_lista= [3,4,7,-1] #Lista tiene n elementos en ejecución\n",
        "for i in range(len(mi_lista)-1):\n",
        "  print(mi_lista[i], end='==')\n",
        "print(mi_lista[len(mi_lista)-1])\n",
        "\n",
        "mi_lista = [3, 4, 7, -1]\n",
        "print(\"==\".join(map(str, mi_lista)))"
      ],
      "metadata": {
        "colab": {
          "base_uri": "https://localhost:8080/"
        },
        "id": "-7y9eqEQKbq-",
        "outputId": "988a2550-37f0-4549-c215-def091afa2b1"
      },
      "execution_count": 24,
      "outputs": [
        {
          "output_type": "stream",
          "name": "stdout",
          "text": [
            "3==4==7==-1\n",
            "3==4==7==-1\n"
          ]
        }
      ]
    },
    {
      "cell_type": "markdown",
      "source": [
        "Dado dos matrices, genere un algoritmo para sumar los elementos de la matriz:  \n",
        "m_1 = [[0,1],[3,-2]]   0 1    0 -1  \n",
        "m_2 = [[0,-1],[1,1]]   3 2    1 1"
      ],
      "metadata": {
        "id": "yaZTI1BhORx8"
      }
    },
    {
      "cell_type": "code",
      "source": [
        "m_1 = [[0,1],[3,-2]]\n",
        "m_2 = [[0,-1],[1,1]]\n",
        "\n",
        "def suma_matrices(matriz_1:list,matriz_2:list)->list: #None: #None por que la funcion retorna un print\n",
        "  suma_matriz = matriz_1.copy() #Se corre una(1) vez\n",
        "  for i in range(len(matriz_1)): #Corremos n filas\n",
        "    for j in range(len(matriz_1)): #Corremos n columnas, el costo sería n*n = n al cuadrado\n",
        "      suma_matriz[i][j] = matriz_1[i][j] + matriz_2[i][j]\n",
        "  return suma_matriz\n",
        "\n",
        "suma_matrices(m_1,m_2)\n"
      ],
      "metadata": {
        "colab": {
          "base_uri": "https://localhost:8080/"
        },
        "id": "StyuYJmdO9OQ",
        "outputId": "987274d5-53c6-4362-bca9-1410b3c87a95"
      },
      "execution_count": 47,
      "outputs": [
        {
          "output_type": "execute_result",
          "data": {
            "text/plain": [
              "[[0, 0], [4, -1]]"
            ]
          },
          "metadata": {},
          "execution_count": 47
        }
      ]
    },
    {
      "cell_type": "markdown",
      "source": [
        "Dado una lista de números retornar la lista con los números elevado al cuadrado. Ejemplo: lista_b = [-3,2,0,10]"
      ],
      "metadata": {
        "id": "iDOrUmYQaKIK"
      }
    },
    {
      "cell_type": "code",
      "source": [
        "def lista_al_cuadrado(lista:list)->list:\n",
        "  list_result = []\n",
        "  for i in lista:\n",
        "    list_result.append(i*i)\n",
        "  return list_result\n",
        "\n",
        "lista_b = [-3,2,0,10]\n",
        "lista_al_cuadrado(lista_b)\n",
        "\n",
        "\n",
        "\n"
      ],
      "metadata": {
        "colab": {
          "base_uri": "https://localhost:8080/"
        },
        "id": "uF6v96YIaYm0",
        "outputId": "c092cf95-e9b2-4f9a-b9f2-d72de5d9888a"
      },
      "execution_count": 54,
      "outputs": [
        {
          "output_type": "execute_result",
          "data": {
            "text/plain": [
              "[9, 4, 0, 100]"
            ]
          },
          "metadata": {},
          "execution_count": 54
        }
      ]
    },
    {
      "cell_type": "code",
      "source": [
        "[x*x for x in lista_b]"
      ],
      "metadata": {
        "colab": {
          "base_uri": "https://localhost:8080/"
        },
        "id": "ZfjdjwOldMfd",
        "outputId": "42c9647c-9427-446a-97cc-c035313cd992"
      },
      "execution_count": 50,
      "outputs": [
        {
          "output_type": "execute_result",
          "data": {
            "text/plain": [
              "[9, 4, 0, 100]"
            ]
          },
          "metadata": {},
          "execution_count": 50
        }
      ]
    },
    {
      "cell_type": "code",
      "source": [
        "for x in lista_b:\n",
        "  mi_lista.append(x*x)"
      ],
      "metadata": {
        "id": "mLDweBaDdSNK"
      },
      "execution_count": null,
      "outputs": []
    },
    {
      "cell_type": "code",
      "source": [
        "[x-1 for x in lista_b]"
      ],
      "metadata": {
        "colab": {
          "base_uri": "https://localhost:8080/"
        },
        "id": "UXN1WuUyde-D",
        "outputId": "d72afca0-ae06-4729-c99a-81f17c9c8d6c"
      },
      "execution_count": 51,
      "outputs": [
        {
          "output_type": "execute_result",
          "data": {
            "text/plain": [
              "[-4, 1, -1, 9]"
            ]
          },
          "metadata": {},
          "execution_count": 51
        }
      ]
    },
    {
      "cell_type": "code",
      "source": [
        "[x*x if x>0 else x for x in lista_b] #Lista de comprensión"
      ],
      "metadata": {
        "colab": {
          "base_uri": "https://localhost:8080/"
        },
        "id": "VRvX4RFOhgUp",
        "outputId": "b8be58e0-56af-4f2c-af88-695d0d6f0f59"
      },
      "execution_count": 55,
      "outputs": [
        {
          "output_type": "execute_result",
          "data": {
            "text/plain": [
              "[-3, 4, 0, 100]"
            ]
          },
          "metadata": {},
          "execution_count": 55
        }
      ]
    },
    {
      "cell_type": "code",
      "source": [
        "my_dict = {'a':'juan','b':'maria'}\n",
        "{k:v.upper() for k,v in my_dict.items()}"
      ],
      "metadata": {
        "colab": {
          "base_uri": "https://localhost:8080/"
        },
        "id": "FQqbDGb4ihTL",
        "outputId": "c548109e-5a0d-413f-8bea-69bf3e9c6db0"
      },
      "execution_count": 58,
      "outputs": [
        {
          "output_type": "execute_result",
          "data": {
            "text/plain": [
              "{'a': 'JUAN', 'b': 'MARIA'}"
            ]
          },
          "metadata": {},
          "execution_count": 58
        }
      ]
    },
    {
      "cell_type": "code",
      "source": [
        "{k:v.capitalize() for k,v in my_dict.items()}"
      ],
      "metadata": {
        "colab": {
          "base_uri": "https://localhost:8080/"
        },
        "id": "j5C7lVGRjsj-",
        "outputId": "82c669e7-32f0-4eaa-bfd9-3502ad18855f"
      },
      "execution_count": 59,
      "outputs": [
        {
          "output_type": "execute_result",
          "data": {
            "text/plain": [
              "{'a': 'Juan', 'b': 'Maria'}"
            ]
          },
          "metadata": {},
          "execution_count": 59
        }
      ]
    },
    {
      "cell_type": "code",
      "source": [
        "my_dict.items()"
      ],
      "metadata": {
        "colab": {
          "base_uri": "https://localhost:8080/"
        },
        "id": "Jx0oF_NbkYyf",
        "outputId": "cf5d8871-e67f-4d10-db71-bfef92603f87"
      },
      "execution_count": 61,
      "outputs": [
        {
          "output_type": "execute_result",
          "data": {
            "text/plain": [
              "dict_items([('a', 'juan'), ('b', 'maria')])"
            ]
          },
          "metadata": {},
          "execution_count": 61
        }
      ]
    }
  ]
}